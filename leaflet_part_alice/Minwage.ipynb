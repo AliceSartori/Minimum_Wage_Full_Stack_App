{
 "cells": [
  {
   "cell_type": "code",
   "execution_count": 6,
   "metadata": {},
   "outputs": [
    {
     "ename": "ModuleNotFoundError",
     "evalue": "No module named 'geopandas'",
     "output_type": "error",
     "traceback": [
      "\u001b[1;31m---------------------------------------------------------------------------\u001b[0m",
      "\u001b[1;31mModuleNotFoundError\u001b[0m                       Traceback (most recent call last)",
      "\u001b[1;32m<ipython-input-6-702af36bb07c>\u001b[0m in \u001b[0;36m<module>\u001b[1;34m\u001b[0m\n\u001b[0;32m     10\u001b[0m \u001b[1;32mimport\u001b[0m \u001b[0mjson\u001b[0m\u001b[1;33m\u001b[0m\u001b[1;33m\u001b[0m\u001b[0m\n\u001b[0;32m     11\u001b[0m \u001b[1;33m\u001b[0m\u001b[0m\n\u001b[1;32m---> 12\u001b[1;33m \u001b[1;32mimport\u001b[0m \u001b[0mgeopandas\u001b[0m \u001b[1;32mas\u001b[0m \u001b[0mgpd\u001b[0m\u001b[1;33m\u001b[0m\u001b[1;33m\u001b[0m\u001b[0m\n\u001b[0m\u001b[0;32m     13\u001b[0m \u001b[1;33m\u001b[0m\u001b[0m\n\u001b[0;32m     14\u001b[0m \u001b[1;31m#File to load\u001b[0m\u001b[1;33m\u001b[0m\u001b[1;33m\u001b[0m\u001b[1;33m\u001b[0m\u001b[0m\n",
      "\u001b[1;31mModuleNotFoundError\u001b[0m: No module named 'geopandas'"
     ]
    }
   ],
   "source": [
    "#Import Dependencies\n",
    "import pandas as pd\n",
    "import numpy as np\n",
    "\n",
    "#Import matplotlib dependencies\n",
    "import matplotlib.pyplot as plt\n",
    "import scipy.stats as st\n",
    "from scipy.stats import linregress\n",
    "\n",
    "import json \n",
    "\n",
    "import geopandas as gpd\n",
    "\n",
    "#File to load\n",
    "file_path = \"./Data/minwage.csv\""
   ]
  },
  {
   "cell_type": "code",
   "execution_count": 4,
   "metadata": {},
   "outputs": [
    {
     "ename": "NameError",
     "evalue": "name 'file_path' is not defined",
     "output_type": "error",
     "traceback": [
      "\u001b[1;31m---------------------------------------------------------------------------\u001b[0m",
      "\u001b[1;31mNameError\u001b[0m                                 Traceback (most recent call last)",
      "\u001b[1;32m<ipython-input-4-cdaac45344bc>\u001b[0m in \u001b[0;36m<module>\u001b[1;34m\u001b[0m\n\u001b[0;32m      1\u001b[0m \u001b[1;31m#Create dataframe\u001b[0m\u001b[1;33m\u001b[0m\u001b[1;33m\u001b[0m\u001b[1;33m\u001b[0m\u001b[0m\n\u001b[1;32m----> 2\u001b[1;33m \u001b[0mmin_wage_df\u001b[0m \u001b[1;33m=\u001b[0m \u001b[0mpd\u001b[0m\u001b[1;33m.\u001b[0m\u001b[0mread_csv\u001b[0m\u001b[1;33m(\u001b[0m\u001b[0mfile_path\u001b[0m\u001b[1;33m,\u001b[0m\u001b[0mencoding\u001b[0m\u001b[1;33m=\u001b[0m\u001b[1;34m'cp1252'\u001b[0m\u001b[1;33m)\u001b[0m\u001b[1;33m\u001b[0m\u001b[1;33m\u001b[0m\u001b[0m\n\u001b[0m\u001b[0;32m      3\u001b[0m \u001b[0mmin_wage_df\u001b[0m\u001b[1;33m.\u001b[0m\u001b[0mhead\u001b[0m\u001b[1;33m(\u001b[0m\u001b[1;33m)\u001b[0m\u001b[1;33m\u001b[0m\u001b[1;33m\u001b[0m\u001b[0m\n",
      "\u001b[1;31mNameError\u001b[0m: name 'file_path' is not defined"
     ]
    }
   ],
   "source": [
    "#Create dataframe\n",
    "min_wage_df = pd.read_csv(file_path,encoding='cp1252') \n",
    "min_wage_df.head()\n"
   ]
  },
  {
   "cell_type": "code",
   "execution_count": 5,
   "metadata": {},
   "outputs": [
    {
     "ename": "NameError",
     "evalue": "name 'min_wage_df' is not defined",
     "output_type": "error",
     "traceback": [
      "\u001b[1;31m---------------------------------------------------------------------------\u001b[0m",
      "\u001b[1;31mNameError\u001b[0m                                 Traceback (most recent call last)",
      "\u001b[1;32m<ipython-input-5-e4cbb4daf471>\u001b[0m in \u001b[0;36m<module>\u001b[1;34m\u001b[0m\n\u001b[1;32m----> 1\u001b[1;33m \u001b[0mmin_wage_df\u001b[0m\u001b[1;33m[\u001b[0m\u001b[1;34m'State'\u001b[0m\u001b[1;33m]\u001b[0m\u001b[1;33m.\u001b[0m\u001b[0munique\u001b[0m\u001b[1;33m(\u001b[0m\u001b[1;33m)\u001b[0m\u001b[1;33m\u001b[0m\u001b[1;33m\u001b[0m\u001b[0m\n\u001b[0m",
      "\u001b[1;31mNameError\u001b[0m: name 'min_wage_df' is not defined"
     ]
    }
   ],
   "source": [
    "min_wage_df['State'].unique()"
   ]
  },
  {
   "cell_type": "code",
   "execution_count": null,
   "metadata": {},
   "outputs": [],
   "source": [
    "# Show column names \n",
    "for col in min_wage_df.columns: \n",
    "    print(col) "
   ]
  },
  {
   "cell_type": "code",
   "execution_count": null,
   "metadata": {},
   "outputs": [],
   "source": [
    "clean_min_wage_df = min_wage_df[['Year', 'State', 'State.Minimum.Wage', 'Federal.Minimum.Wage']]\n",
    "clean_min_wage_df.head(10)"
   ]
  },
  {
   "cell_type": "code",
   "execution_count": null,
   "metadata": {},
   "outputs": [],
   "source": [
    "# Drop earlier years\n",
    "\n",
    "drop_early_df = clean_min_wage_df[clean_min_wage_df['Year'] >= 1970]\n",
    "drop_early_df.head(10)\n"
   ]
  },
  {
   "cell_type": "code",
   "execution_count": null,
   "metadata": {},
   "outputs": [],
   "source": [
    "#Load in Latlngs\n",
    "latlong_file_path = \"./Data/statelatlong.csv\"\n",
    "latlong_df = pd.read_csv(latlong_file_path,encoding='cp1252') \n",
    "latlong_df = latlong_df.drop('State', 1)\n",
    "latlong_df = latlong_df.rename(columns={'City': 'State'})\n",
    "latlong_df.head()"
   ]
  },
  {
   "cell_type": "code",
   "execution_count": null,
   "metadata": {},
   "outputs": [],
   "source": [
    "latlong_df['State'].unique()"
   ]
  },
  {
   "cell_type": "code",
   "execution_count": null,
   "metadata": {},
   "outputs": [],
   "source": [
    "minwage_with_latlng = pd.merge(drop_early_df,  \n",
    "                     latlong_df,  \n",
    "                     on ='State')\n",
    "\n",
    "minwage_with_latlng"
   ]
  },
  {
   "cell_type": "code",
   "execution_count": null,
   "metadata": {},
   "outputs": [],
   "source": [
    "len(set(minwage_with_latlng['State'].values))"
   ]
  },
  {
   "cell_type": "code",
   "execution_count": null,
   "metadata": {},
   "outputs": [],
   "source": [
    "print(minwage_with_latlng[\"Year\"].max())\n",
    "print(minwage_with_latlng['Year'].min())"
   ]
  },
  {
   "cell_type": "code",
   "execution_count": null,
   "metadata": {},
   "outputs": [],
   "source": [
    "# Create bins in which to place values based upon TED Talk views\n",
    "bins = [1969, 1979, 1989, 1999, 2009, 2019,2020 ]\n",
    "\n",
    "# Create labels for these bins\n",
    "group_labels = ['1970',\"1980\", \"1990\", \"2000\", \"2010\",'2020']"
   ]
  },
  {
   "cell_type": "code",
   "execution_count": null,
   "metadata": {},
   "outputs": [],
   "source": [
    "# Place the data series into a new column inside of the DataFrame\n",
    "minwage_with_latlng[\"Decade\"] = pd.cut(minwage_with_latlng[\"Year\"], bins, labels=group_labels)\n",
    "minwage_with_latlng.sample(20)"
   ]
  },
  {
   "cell_type": "code",
   "execution_count": null,
   "metadata": {},
   "outputs": [],
   "source": [
    "# Create a GroupBy object based upon \"View Group\"\n",
    "\n",
    "\n",
    "statistics_df=round(minwage_with_latlng.groupby(['Decade', 'State']).agg(['mean', 'median'])['State.Minimum.Wage'],2)\n",
    "statistics_df=statistics_df.reset_index()\n",
    "statistics_df"
   ]
  },
  {
   "cell_type": "code",
   "execution_count": null,
   "metadata": {},
   "outputs": [],
   "source": [
    "statistics_df_federal=round(minwage_with_latlng.groupby(['Decade', 'State']).agg(['mean', 'median'])['Federal.Minimum.Wage'],2)\n",
    "statistics_df_federal=statistics_df_federal.reset_index()\n",
    "statistics_df_federal"
   ]
  },
  {
   "cell_type": "code",
   "execution_count": null,
   "metadata": {},
   "outputs": [],
   "source": [
    "statistics_df"
   ]
  },
  {
   "cell_type": "code",
   "execution_count": null,
   "metadata": {},
   "outputs": [],
   "source": [
    "minwage_with_latlng.info()"
   ]
  },
  {
   "cell_type": "code",
   "execution_count": null,
   "metadata": {},
   "outputs": [],
   "source": [
    "minwage_with_latlng['Decade']= minwage_with_latlng['Decade'].astype(str)\n",
    "minwage_with_latlng.info()"
   ]
  },
  {
   "cell_type": "code",
   "execution_count": null,
   "metadata": {},
   "outputs": [],
   "source": [
    "#del minwage_with_latlng[\"Year\"]"
   ]
  },
  {
   "cell_type": "code",
   "execution_count": null,
   "metadata": {},
   "outputs": [],
   "source": [
    "# print('We have {} geotagged rows'.format(len(minwage_with_latlng)))"
   ]
  },
  {
   "cell_type": "code",
   "execution_count": null,
   "metadata": {},
   "outputs": [],
   "source": [
    "# def df_to_geojson(minwage_with_latlng, properties, lat='Latitude', lon='Longitude'):\n",
    "#     \"\"\"\n",
    "#     Turn a dataframe containing point data into a geojson formatted python dictionary\n",
    "    \n",
    "#     df : the dataframe to convert to geojson\n",
    "#     properties : a list of columns in the dataframe to turn into geojson feature properties\n",
    "#     lat : the name of the column in the dataframe that contains latitude data\n",
    "#     lon : the name of the column in the dataframe that contains longitude data\n",
    "#     \"\"\"\n",
    "    \n",
    "#     # create a new python dict to contain our geojson data, using geojson format\n",
    "#     geojson = {'type':'FeatureCollection', 'features':[]}\n",
    "\n",
    "#     # loop through each row in the dataframe and convert each row to geojson format\n",
    "#     for _, row in minwage_with_latlng.iterrows():\n",
    "#         # create a feature template to fill in\n",
    "#         feature = {'type':'Feature',\n",
    "#                    'properties':{},\n",
    "#                    'geometry':{'type':'Point',\n",
    "#                                'coordinates':[]}}\n",
    "\n",
    "#         # fill in the coordinates\n",
    "#         feature['geometry']['coordinates'] = [row[lon],row[lat]]\n",
    "\n",
    "#         # for each column, get the value and add it as a new feature property\n",
    "#         for prop in properties:\n",
    "#             feature['properties'][prop] = row[prop]\n",
    "        \n",
    "#         # add this feature (aka, converted dataframe row) to the list of features inside our dict\n",
    "#         geojson['features'].append(feature)\n",
    "    \n",
    "#     return geojson"
   ]
  },
  {
   "cell_type": "code",
   "execution_count": null,
   "metadata": {},
   "outputs": [],
   "source": [
    "# useful_columns = ['Year','State','State.Minimum.Wage','State.Minimum.Wage.2020.Dollars','Federal.Minimum.Wage', 'Federal.Minimum.Wage.2020.Dollars','Latitude','Longitude','Decade']\n",
    "# geojson_dict = df_to_geojson(minwage_with_latlng, properties=useful_columns)\n",
    "# geojson_str = json.dumps(geojson_dict, indent=2)\n",
    "# print(geojson_str)"
   ]
  },
  {
   "cell_type": "code",
   "execution_count": null,
   "metadata": {},
   "outputs": [],
   "source": [
    "# Can't use this, <class 'str'> type"
   ]
  },
  {
   "cell_type": "code",
   "execution_count": null,
   "metadata": {},
   "outputs": [],
   "source": [
    "geojson_internet=gpd.read_file('gz_2010_us_040_00_500k.json')\n",
    "geojson_internet"
   ]
  },
  {
   "cell_type": "code",
   "execution_count": null,
   "metadata": {},
   "outputs": [],
   "source": [
    "renamed_df=geojson_internet.rename(columns = {'STATE':'Name', 'NAME':'State'})\n",
    "renamed_df"
   ]
  },
  {
   "cell_type": "code",
   "execution_count": null,
   "metadata": {},
   "outputs": [],
   "source": [
    "geojson_data=renamed_df.merge(minwage_with_latlng, on='State')\n",
    "geojson_data"
   ]
  },
  {
   "cell_type": "code",
   "execution_count": null,
   "metadata": {},
   "outputs": [],
   "source": [
    "geojson_data_final=geojson_data.merge(statistics_df, on=['Decade','State'])\n",
    "geojson_data_final"
   ]
  },
  {
   "cell_type": "code",
   "execution_count": null,
   "metadata": {},
   "outputs": [],
   "source": [
    "geojson_data_final=geojson_data_final.merge(statistics_df_federal, on=['Decade','State'])\n",
    "geojson_data_final"
   ]
  },
  {
   "cell_type": "code",
   "execution_count": null,
   "metadata": {},
   "outputs": [],
   "source": [
    "geojson_data_to_upload = geojson_data_final.rename(columns = {'mean_x':'State_Average_by_Decade', 'median_x':'State_Median_by_Decade','mean_y':'Federal_Average_by_Decade', 'median_y':'Federal_Median_by_Decade'})\n",
    "geojson_data_to_upload"
   ]
  },
  {
   "cell_type": "code",
   "execution_count": null,
   "metadata": {},
   "outputs": [],
   "source": [
    "# # rows = []\n",
    "\n",
    "# for ii in range(1970, 2021):\n",
    "#     test1 = geojson_data_to_upload[geojson_data_to_upload.Year == ii]\n",
    "\n",
    "# # print(test1)\n",
    "#     test1.to_file(\"./map/static/data/\"+str(ii)+\".geojson\", driver='GeoJSON')\n",
    "# # for ii , row in geojson_data_to_upload.iterrows():\n",
    "# #     if(row.Year == 1970):\n",
    "# #         rows.append(row)"
   ]
  },
  {
   "cell_type": "code",
   "execution_count": null,
   "metadata": {},
   "outputs": [],
   "source": [
    "print(type(geojson_data_to_upload))"
   ]
  },
  {
   "cell_type": "code",
   "execution_count": null,
   "metadata": {},
   "outputs": [],
   "source": [
    "geojson_data_to_upload.to_file(\"minwage.geojson\", driver='GeoJSON')"
   ]
  },
  {
   "cell_type": "code",
   "execution_count": null,
   "metadata": {},
   "outputs": [],
   "source": [
    "geojson_internet2=gpd.read_file('us_states.geojson')\n",
    "geojson_internet2"
   ]
  },
  {
   "cell_type": "code",
   "execution_count": null,
   "metadata": {},
   "outputs": [],
   "source": [
    "renamed_df=geojson_internet2.rename(columns = {'name':'State'})\n",
    "renamed_df"
   ]
  },
  {
   "cell_type": "code",
   "execution_count": null,
   "metadata": {},
   "outputs": [],
   "source": [
    "geojson_data=renamed_df.merge(minwage_with_latlng, on='State')\n",
    "geojson_data"
   ]
  },
  {
   "cell_type": "code",
   "execution_count": null,
   "metadata": {},
   "outputs": [],
   "source": [
    "geojson_data_final=geojson_data.merge(statistics_df, on=['Decade','State'])\n",
    "geojson_data_final"
   ]
  },
  {
   "cell_type": "code",
   "execution_count": null,
   "metadata": {},
   "outputs": [],
   "source": [
    "geojson_data_final = geojson_data_final.merge(statistics_df_federal, on=['Decade','State'])\n",
    "geojson_data_final"
   ]
  },
  {
   "cell_type": "code",
   "execution_count": null,
   "metadata": {},
   "outputs": [],
   "source": [
    "geojson_data_to_upload=geojson_data_final.rename(columns = {'mean_x':'State_Average_by_Decade', 'median_x':'State_Median_by_Decade','mean_y':'Federal_Average_by_Decade', 'median_y':'Federal_Median_by_Decade'})\n",
    "geojson_data_to_upload"
   ]
  },
  {
   "cell_type": "code",
   "execution_count": null,
   "metadata": {},
   "outputs": [],
   "source": [
    "geojson_data_to_upload.to_file(\"minwage2try.geojson\", driver='GeoJSON')"
   ]
  },
  {
   "cell_type": "code",
   "execution_count": null,
   "metadata": {},
   "outputs": [],
   "source": []
  }
 ],
 "metadata": {
  "kernelspec": {
   "display_name": "Python 3",
   "language": "python",
   "name": "python3"
  },
  "language_info": {
   "codemirror_mode": {
    "name": "ipython",
    "version": 3
   },
   "file_extension": ".py",
   "mimetype": "text/x-python",
   "name": "python",
   "nbconvert_exporter": "python",
   "pygments_lexer": "ipython3",
   "version": "3.8.3"
  }
 },
 "nbformat": 4,
 "nbformat_minor": 4
}
